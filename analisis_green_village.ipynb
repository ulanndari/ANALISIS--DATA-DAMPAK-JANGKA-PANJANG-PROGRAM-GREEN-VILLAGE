{
 "cells": [
  {
   "cell_type": "markdown",
   "id": "7eed8696",
   "metadata": {},
   "source": [
    "# QUERY 1 : 📥 MEMUAT DAN MEMBERSIHKAN DATA\n",
    "### Query 1.1 : 🧩 Import library\n",
    "####  🎯 Tujuan : Mengimpor pustaka (library) yang dibutuhkan untuk analisis data"
   ]
  },
  {
   "cell_type": "code",
   "execution_count": 1,
   "id": "7ee1e433",
   "metadata": {},
   "outputs": [],
   "source": [
    "# Import library yang diperlukan\n",
    "import pandas as pd                # Mengimpor library Pandas\n",
    "import numpy as np                 # Mengimpor library NumPy\n",
    "import matplotlib.pyplot as plt    # Mengimpor modul pyplot dari Matplotlib"
   ]
  },
  {
   "cell_type": "markdown",
   "id": "3f804404",
   "metadata": {},
   "source": [
    "### Query 1.2 : 🧾 Memuat Dataset dari File CSV\n",
    "#### 🎯 Tujuan : Memuat data eksternal green_village_data.csv ke dalam Python agar bisa dianalisis, serta melakukan inspeksi awal terhadap struktur data."
   ]
  },
  {
   "cell_type": "code",
   "execution_count": 2,
   "id": "c43e71a4",
   "metadata": {},
   "outputs": [
    {
     "data": {
      "application/vnd.microsoft.datawrangler.viewer.v0+json": {
       "columns": [
        {
         "name": "index",
         "rawType": "int64",
         "type": "integer"
        },
        {
         "name": "Date",
         "rawType": "object",
         "type": "string"
        },
        {
         "name": "Household_ID",
         "rawType": "object",
         "type": "string"
        },
        {
         "name": "Organic_Waste_kg",
         "rawType": "float64",
         "type": "float"
        },
        {
         "name": "Recyclable_Waste_kg",
         "rawType": "float64",
         "type": "float"
        },
        {
         "name": "Biogas_Produced_L",
         "rawType": "float64",
         "type": "float"
        },
        {
         "name": "Energy_Credits",
         "rawType": "float64",
         "type": "float"
        },
        {
         "name": "Total_Waste_kg",
         "rawType": "float64",
         "type": "float"
        },
        {
         "name": "Recycle_Ratio",
         "rawType": "float64",
         "type": "float"
        },
        {
         "name": "Biogas_Efficiency",
         "rawType": "float64",
         "type": "float"
        }
       ],
       "ref": "3b2b2404-afb8-45f9-98dd-015470ade59c",
       "rows": [
        [
         "0",
         "2025-01-03",
         "H001",
         "4.56",
         "1.23",
         "273.6",
         "138.9",
         "5.789999999999999",
         "0.2124352331606218",
         "60.00000000000001"
        ],
        [
         "1",
         "2025-01-05",
         "H002",
         "7.89",
         "3.45",
         "552.3",
         "283.65",
         "11.34",
         "0.3042328042328042",
         "70.0"
        ],
        [
         "2",
         "2025-01-07",
         "H003",
         "2.34",
         "0.67",
         "128.7",
         "65.85",
         "3.01",
         "0.2225913621262459",
         "55.0"
        ],
        [
         "3",
         "2025-01-10",
         "H004",
         "6.12",
         "2.89",
         "367.2",
         "189.4",
         "9.01",
         "0.3207547169811321",
         "60.0"
        ],
        [
         "4",
         "2025-01-12",
         "H005",
         "3.78",
         "1.12",
         "226.8",
         "116.4",
         "4.9",
         "0.2285714285714285",
         "60.00000000000001"
        ]
       ],
       "shape": {
        "columns": 9,
        "rows": 5
       }
      },
      "text/html": [
       "<div>\n",
       "<style scoped>\n",
       "    .dataframe tbody tr th:only-of-type {\n",
       "        vertical-align: middle;\n",
       "    }\n",
       "\n",
       "    .dataframe tbody tr th {\n",
       "        vertical-align: top;\n",
       "    }\n",
       "\n",
       "    .dataframe thead th {\n",
       "        text-align: right;\n",
       "    }\n",
       "</style>\n",
       "<table border=\"1\" class=\"dataframe\">\n",
       "  <thead>\n",
       "    <tr style=\"text-align: right;\">\n",
       "      <th></th>\n",
       "      <th>Date</th>\n",
       "      <th>Household_ID</th>\n",
       "      <th>Organic_Waste_kg</th>\n",
       "      <th>Recyclable_Waste_kg</th>\n",
       "      <th>Biogas_Produced_L</th>\n",
       "      <th>Energy_Credits</th>\n",
       "      <th>Total_Waste_kg</th>\n",
       "      <th>Recycle_Ratio</th>\n",
       "      <th>Biogas_Efficiency</th>\n",
       "    </tr>\n",
       "  </thead>\n",
       "  <tbody>\n",
       "    <tr>\n",
       "      <th>0</th>\n",
       "      <td>2025-01-03</td>\n",
       "      <td>H001</td>\n",
       "      <td>4.56</td>\n",
       "      <td>1.23</td>\n",
       "      <td>273.6</td>\n",
       "      <td>138.90</td>\n",
       "      <td>5.79</td>\n",
       "      <td>0.212435</td>\n",
       "      <td>60.0</td>\n",
       "    </tr>\n",
       "    <tr>\n",
       "      <th>1</th>\n",
       "      <td>2025-01-05</td>\n",
       "      <td>H002</td>\n",
       "      <td>7.89</td>\n",
       "      <td>3.45</td>\n",
       "      <td>552.3</td>\n",
       "      <td>283.65</td>\n",
       "      <td>11.34</td>\n",
       "      <td>0.304233</td>\n",
       "      <td>70.0</td>\n",
       "    </tr>\n",
       "    <tr>\n",
       "      <th>2</th>\n",
       "      <td>2025-01-07</td>\n",
       "      <td>H003</td>\n",
       "      <td>2.34</td>\n",
       "      <td>0.67</td>\n",
       "      <td>128.7</td>\n",
       "      <td>65.85</td>\n",
       "      <td>3.01</td>\n",
       "      <td>0.222591</td>\n",
       "      <td>55.0</td>\n",
       "    </tr>\n",
       "    <tr>\n",
       "      <th>3</th>\n",
       "      <td>2025-01-10</td>\n",
       "      <td>H004</td>\n",
       "      <td>6.12</td>\n",
       "      <td>2.89</td>\n",
       "      <td>367.2</td>\n",
       "      <td>189.40</td>\n",
       "      <td>9.01</td>\n",
       "      <td>0.320755</td>\n",
       "      <td>60.0</td>\n",
       "    </tr>\n",
       "    <tr>\n",
       "      <th>4</th>\n",
       "      <td>2025-01-12</td>\n",
       "      <td>H005</td>\n",
       "      <td>3.78</td>\n",
       "      <td>1.12</td>\n",
       "      <td>226.8</td>\n",
       "      <td>116.40</td>\n",
       "      <td>4.90</td>\n",
       "      <td>0.228571</td>\n",
       "      <td>60.0</td>\n",
       "    </tr>\n",
       "  </tbody>\n",
       "</table>\n",
       "</div>"
      ],
      "text/plain": [
       "         Date Household_ID  Organic_Waste_kg  Recyclable_Waste_kg  \\\n",
       "0  2025-01-03         H001              4.56                 1.23   \n",
       "1  2025-01-05         H002              7.89                 3.45   \n",
       "2  2025-01-07         H003              2.34                 0.67   \n",
       "3  2025-01-10         H004              6.12                 2.89   \n",
       "4  2025-01-12         H005              3.78                 1.12   \n",
       "\n",
       "   Biogas_Produced_L  Energy_Credits  Total_Waste_kg  Recycle_Ratio  \\\n",
       "0              273.6          138.90            5.79       0.212435   \n",
       "1              552.3          283.65           11.34       0.304233   \n",
       "2              128.7           65.85            3.01       0.222591   \n",
       "3              367.2          189.40            9.01       0.320755   \n",
       "4              226.8          116.40            4.90       0.228571   \n",
       "\n",
       "   Biogas_Efficiency  \n",
       "0               60.0  \n",
       "1               70.0  \n",
       "2               55.0  \n",
       "3               60.0  \n",
       "4               60.0  "
      ]
     },
     "execution_count": 2,
     "metadata": {},
     "output_type": "execute_result"
    }
   ],
   "source": [
    "# Memuat dataset dari file CSV ke dalam DataFrame\n",
    "df = pd.read_csv('green_village_data.csv')\n",
    "\n",
    "# Inspeksi cepat untuk memastikan data termuat dengan benar\n",
    "df.head()"
   ]
  },
  {
   "cell_type": "markdown",
   "id": "f3833d0f",
   "metadata": {},
   "source": [
    "### Query 1.3 : 🗓️ Konversi Tipe Data Tanggal\n",
    "#### 🎯 Tujuan : Mengubah kolom 'Date' dari tipe teks (string/object) menjadi tipe datetime agar bisa digunakan untuk analisis berbasis waktu seperti:\n",
    "#### > Tren mingguan/bulanan\n",
    "#### > Penyaringan data berdasarkan periode\n",
    "#### > Visualisasi time-series"
   ]
  },
  {
   "cell_type": "code",
   "execution_count": 5,
   "id": "fcc949ad",
   "metadata": {},
   "outputs": [
    {
     "name": "stdout",
     "output_type": "stream",
     "text": [
      "Date                   datetime64[ns]\n",
      "Household_ID                   object\n",
      "Organic_Waste_kg              float64\n",
      "Recyclable_Waste_kg           float64\n",
      "Biogas_Produced_L             float64\n",
      "Energy_Credits                float64\n",
      "Total_Waste_kg                float64\n",
      "Recycle_Ratio                 float64\n",
      "Biogas_Efficiency             float64\n",
      "dtype: object\n"
     ]
    }
   ],
   "source": [
    "# Mengonversi kolom 'Date' dari object (teks) ke datetime\n",
    "df['Date'] = pd.to_datetime(df['Date'])\n",
    "print(df.dtypes)\n"
   ]
  },
  {
   "cell_type": "markdown",
   "id": "877fff93",
   "metadata": {},
   "source": [
    "### Query 1.4 : 🛠️ Deteksi dan Imputasi Nilai yang Hilang\n",
    "#### 🎯 Tujuan : Mendeteksi nilai yang hilang (NaN) dan secara otomatis mengisi kolom numerik dengan rata-rata kolom tersebut agar analisis tetap akurat dan tidak error."
   ]
  },
  {
   "cell_type": "code",
   "execution_count": 6,
   "id": "a2cd2713",
   "metadata": {},
   "outputs": [
    {
     "name": "stdout",
     "output_type": "stream",
     "text": [
      "Jumlah nilai hilang SEBELUM imputasi: \n",
      "Date                   0\n",
      "Household_ID           0\n",
      "Organic_Waste_kg       0\n",
      "Recyclable_Waste_kg    0\n",
      "Biogas_Produced_L      0\n",
      "Energy_Credits         0\n",
      "Total_Waste_kg         0\n",
      "Recycle_Ratio          0\n",
      "Biogas_Efficiency      0\n",
      "dtype: int64\n",
      "\n",
      "Jumlah nilai hilang SETELAH imputasi: \n",
      "Date                   0\n",
      "Household_ID           0\n",
      "Organic_Waste_kg       0\n",
      "Recyclable_Waste_kg    0\n",
      "Biogas_Produced_L      0\n",
      "Energy_Credits         0\n",
      "Total_Waste_kg         0\n",
      "Recycle_Ratio          0\n",
      "Biogas_Efficiency      0\n",
      "dtype: int64\n"
     ]
    }
   ],
   "source": [
    "# Deteksi jumlah nilai yang hilang dan isi dengan rata-rata untuk kolom numerik\n",
    "print(\"Jumlah nilai hilang SEBELUM imputasi: \")\n",
    "# Menghitung jumlah nilai NaN di setiap kolom\n",
    "print(df.isnull().sum())\n",
    "\n",
    "# Mengisi nilai NaN dengan rata-rata kolom masing-masing\n",
    "df.fillna(df.mean(numeric_only=True), inplace=True)\n",
    "\n",
    "print(\"\\nJumlah nilai hilang SETELAH imputasi: \")\n",
    "print(df.isnull().sum())\n"
   ]
  },
  {
   "cell_type": "markdown",
   "id": "d48bdac2",
   "metadata": {},
   "source": [
    "# QUERY 2 : 🔬 ANALISIS DAN PERHITUNGAN\n",
    "###  Query 2.1 : ♻️ Menghitung Total Sampah (Feature Engineering)\n",
    "#### 🎯 Tujuan : Membuat kolom baru Total_Waste_kg untuk merepresentasikan jumlah total sampah per rumah tangga (baik organik maupun daur ulang), sehingga analisis dapat lebih komprehensif dibanding hanya melihat masing-masing komponen secara terpisah."
   ]
  },
  {
   "cell_type": "code",
   "execution_count": null,
   "id": "78b62f8e",
   "metadata": {},
   "outputs": [
    {
     "data": {
      "application/vnd.microsoft.datawrangler.viewer.v0+json": {
       "columns": [
        {
         "name": "index",
         "rawType": "int64",
         "type": "integer"
        },
        {
         "name": "Organic_Waste_kg",
         "rawType": "float64",
         "type": "float"
        },
        {
         "name": "Recyclable_Waste_kg",
         "rawType": "float64",
         "type": "float"
        },
        {
         "name": "Total_Waste_kg",
         "rawType": "float64",
         "type": "float"
        }
       ],
       "ref": "2cd2f953-ecd5-49f4-9186-c73d76b35620",
       "rows": [
        [
         "0",
         "4.56",
         "1.23",
         "5.789999999999999"
        ],
        [
         "1",
         "7.89",
         "3.45",
         "11.34"
        ],
        [
         "2",
         "2.34",
         "0.67",
         "3.01"
        ],
        [
         "3",
         "6.12",
         "2.89",
         "9.01"
        ],
        [
         "4",
         "3.78",
         "1.12",
         "4.9"
        ]
       ],
       "shape": {
        "columns": 3,
        "rows": 5
       }
      },
      "text/html": [
       "<div>\n",
       "<style scoped>\n",
       "    .dataframe tbody tr th:only-of-type {\n",
       "        vertical-align: middle;\n",
       "    }\n",
       "\n",
       "    .dataframe tbody tr th {\n",
       "        vertical-align: top;\n",
       "    }\n",
       "\n",
       "    .dataframe thead th {\n",
       "        text-align: right;\n",
       "    }\n",
       "</style>\n",
       "<table border=\"1\" class=\"dataframe\">\n",
       "  <thead>\n",
       "    <tr style=\"text-align: right;\">\n",
       "      <th></th>\n",
       "      <th>Organic_Waste_kg</th>\n",
       "      <th>Recyclable_Waste_kg</th>\n",
       "      <th>Total_Waste_kg</th>\n",
       "    </tr>\n",
       "  </thead>\n",
       "  <tbody>\n",
       "    <tr>\n",
       "      <th>0</th>\n",
       "      <td>4.56</td>\n",
       "      <td>1.23</td>\n",
       "      <td>5.79</td>\n",
       "    </tr>\n",
       "    <tr>\n",
       "      <th>1</th>\n",
       "      <td>7.89</td>\n",
       "      <td>3.45</td>\n",
       "      <td>11.34</td>\n",
       "    </tr>\n",
       "    <tr>\n",
       "      <th>2</th>\n",
       "      <td>2.34</td>\n",
       "      <td>0.67</td>\n",
       "      <td>3.01</td>\n",
       "    </tr>\n",
       "    <tr>\n",
       "      <th>3</th>\n",
       "      <td>6.12</td>\n",
       "      <td>2.89</td>\n",
       "      <td>9.01</td>\n",
       "    </tr>\n",
       "    <tr>\n",
       "      <th>4</th>\n",
       "      <td>3.78</td>\n",
       "      <td>1.12</td>\n",
       "      <td>4.90</td>\n",
       "    </tr>\n",
       "  </tbody>\n",
       "</table>\n",
       "</div>"
      ],
      "text/plain": [
       "   Organic_Waste_kg  Recyclable_Waste_kg  Total_Waste_kg\n",
       "0              4.56                 1.23            5.79\n",
       "1              7.89                 3.45           11.34\n",
       "2              2.34                 0.67            3.01\n",
       "3              6.12                 2.89            9.01\n",
       "4              3.78                 1.12            4.90"
      ]
     },
     "execution_count": 8,
     "metadata": {},
     "output_type": "execute_result"
    }
   ],
   "source": [
    "# Membuat fitur baru 'Total_Waste_kg'\n",
    "df['Total_Waste_kg'] = df['Organic_Waste_kg'] + df['Recyclable_Waste_kg']\n",
    "\n",
    "# cek hasil penjumlahan total sampah\n",
    "df[['Organic_Waste_kg', 'Recyclable_Waste_kg', 'Total_Waste_kg']].head()\n"
   ]
  },
  {
   "cell_type": "code",
   "execution_count": null,
   "id": "645ca937",
   "metadata": {},
   "outputs": [
    {
     "name": "stdout",
     "output_type": "stream",
     "text": [
      "   Organic_Waste_kg  Recyclable_Waste_kg  Total_Waste_kg Kategori_Sampah\n",
      "0              4.56                 1.23            5.79          Rendah\n",
      "1              7.89                 3.45           11.34          Tinggi\n",
      "2              2.34                 0.67            3.01          Rendah\n",
      "3              6.12                 2.89            9.01          Rendah\n",
      "4              3.78                 1.12            4.90          Rendah\n"
     ]
    }
   ],
   "source": [
    "# Mengimpor library pandas\n",
    "import pandas as pd\n",
    "\n",
    "# Membaca file CSV green_village_data\n",
    "df = pd.read_csv('green_village_data.csv')\n",
    "\n",
    "# Inisialisasi kolom kosong dengan tipe data yang sesuai\n",
    "# gunakan 0.0 agar bertipe float\n",
    "df['Total_Waste_kg'] = 0.0 \n",
    "df['Kategori_Sampah'] = \"\"\n",
    "\n",
    "# iterasi per baris untuk hitung total dan klasifikasi\n",
    "for index, row in df.iterrows():\n",
    "    total = row['Organic_Waste_kg'] + row['Recyclable_Waste_kg']\n",
    "    # baru set nilainya per baris\n",
    "    df.at[index, 'Total_Waste_kg'] = total  \n",
    "\n",
    "    # Klasifikasi volume total\n",
    "    if total >= 10:\n",
    "        kategori = \"Tinggi\"\n",
    "    else:\n",
    "        kategori = \"Rendah\"\n",
    "\n",
    "    df.at[index, 'Kategori_Sampah'] = kategori\n",
    "\n",
    "# cetak 5 baris pertama hasilnya\n",
    "print(df[['Organic_Waste_kg', 'Recyclable_Waste_kg', 'Total_Waste_kg', 'Kategori_Sampah']].head())\n",
    "\n"
   ]
  },
  {
   "cell_type": "markdown",
   "id": "0816180f",
   "metadata": {},
   "source": [
    "### Query 2.2 : ♻️ Menghitung Rasio Daur Ulang (Recycle Ratio)\n",
    "#### 🎯 Tujuan : Membuat fitur baru Recycle_Ratio untuk mengetahui berapa proporsi sampah rumah tangga yang bisa didaur ulang dibandingkan total sampah yang dihasilkan. Ini membantu:\n",
    "#### > Menilai tingkat kesadaran pemilahan sampah\n",
    "#### > Melihat efektivitas program pengelolaan sampah"
   ]
  },
  {
   "cell_type": "code",
   "execution_count": 11,
   "id": "1ef11c31",
   "metadata": {},
   "outputs": [
    {
     "name": "stdout",
     "output_type": "stream",
     "text": [
      "   Organic_Waste_kg  Recyclable_Waste_kg  Total_Waste_kg  Recycle_Ratio  \\\n",
      "0              4.56                 1.23            5.79       0.212435   \n",
      "1              7.89                 3.45           11.34       0.304233   \n",
      "2              2.34                 0.67            3.01       0.222591   \n",
      "3              6.12                 2.89            9.01       0.320755   \n",
      "4              3.78                 1.12            4.90       0.228571   \n",
      "\n",
      "  Kesadaran_Daur_Ulang  \n",
      "0        Perlu Edukasi  \n",
      "1        Perlu Edukasi  \n",
      "2        Perlu Edukasi  \n",
      "3        Perlu Edukasi  \n",
      "4        Perlu Edukasi  \n"
     ]
    }
   ],
   "source": [
    "# Menghitung rasio sebagai fitur baru\n",
    "df['Recycle_Ratio'] = df['Recyclable_Waste_kg'] / df['Total_Waste_kg']\n",
    "\n",
    "# Import library pandas\n",
    "import pandas as pd\n",
    "\n",
    "# Baca file CSV green_village_data\n",
    "df = pd.read_csv('green_village_data.csv')\n",
    "\n",
    "# Inisialisasi kolom\n",
    "# gunakan 0.0 agar bertipe float\n",
    "df['Total_Waste_kg'] = 0.0\n",
    "df['Kategori_Sampah'] = \"\"\n",
    "df['Recycle_Ratio'] = 0.0\n",
    "# tambahkan kolom baru untuk kategori edukasi\n",
    "df['Kesadaran_Daur_Ulang'] = \"\" \n",
    "\n",
    "# Proses baris demi baris\n",
    "for index, row in df.iterrows():\n",
    "    # Hitung total sampah\n",
    "    total = row['Organic_Waste_kg'] + row['Recyclable_Waste_kg']\n",
    "    df.at[index, 'Total_Waste_kg'] = total\n",
    "\n",
    "    # Kategori volume total\n",
    "    if total >= 10:\n",
    "        kategori = \"Tinggi\"\n",
    "    else:\n",
    "        kategori = \"Rendah\"\n",
    "    df.at[index, 'Kategori_Sampah'] = kategori\n",
    "\n",
    "    # Hitung rasio daur ulang (hindari pembagian nol)\n",
    "    if total > 0:\n",
    "        recycle_ratio = row['Recyclable_Waste_kg'] / total\n",
    "    else:\n",
    "        recycle_ratio = 0.0\n",
    "    df.at[index, 'Recycle_Ratio'] = recycle_ratio\n",
    "\n",
    "    # Klasifikasi kesadaran daur ulang\n",
    "    if recycle_ratio >= 0.5:\n",
    "        kesadaran = \"Sadar Daur Ulang\"\n",
    "    else:\n",
    "        kesadaran = \"Perlu Edukasi\"\n",
    "    df.at[index, 'Kesadaran_Daur_Ulang'] = kesadaran\n",
    "\n",
    "# cetak hasil\n",
    "print(df[['Organic_Waste_kg', 'Recyclable_Waste_kg', 'Total_Waste_kg',\n",
    "          'Recycle_Ratio', 'Kesadaran_Daur_Ulang']].head())\n",
    "\n"
   ]
  },
  {
   "cell_type": "markdown",
   "id": "0a1b7418",
   "metadata": {},
   "source": [
    "### Query 2.3 : 🔎 Menghitung Efisiensi Produksi Biogas\n",
    "#### 🎯 Tujuan : Tujuan dari query ini adalah untuk mengukur efisiensi konversi limbah organik menjadi biogas sebagai indikator keberhasilan program biogas di desa.\n",
    "#### Dengan menghitung efisiensi produksi biogas, kita ingin menjawab pertanyaan:\n",
    "#### \"Seberapa efektif proses konversi sampah organik menjadi energi di setiap rumah tangga?\""
   ]
  },
  {
   "cell_type": "code",
   "execution_count": null,
   "id": "6dd9702e",
   "metadata": {},
   "outputs": [
    {
     "name": "stdout",
     "output_type": "stream",
     "text": [
      "   Organic_Waste_kg  Biogas_Produced_L  Biogas_Efficiency Kategori_Efisiensi\n",
      "0              4.56              273.6               60.0            Efisien\n",
      "1              7.89              552.3               70.0            Efisien\n",
      "2              2.34              128.7               55.0     Kurang Efisien\n",
      "3              6.12              367.2               60.0            Efisien\n",
      "4              3.78              226.8               60.0            Efisien\n"
     ]
    }
   ],
   "source": [
    "# impor pandas untuk mengelola data\n",
    "import pandas as pd\n",
    "# impor numpay untuk mengelola data\n",
    "import numpy as np\n",
    "\n",
    "# Membaca data dari CSV\n",
    "df = pd.read_csv(\"green_village_data.csv\")\n",
    "\n",
    "\n",
    "# Menghitung efisiensi, menangani kasus pembagian dengan nol\n",
    "df['Biogas_Efficiency'] = df['Biogas_Produced_L'] / df['Organic_Waste_kg']\n",
    "\n",
    "# Mengganti nilai tak terhingga (inf) yang mungkin muncul dengan 0\n",
    "df.replace([np.inf, -np.inf], np.nan, inplace=True)\n",
    "df['Biogas_Efficiency'] = df['Biogas_Efficiency'].fillna(0)\n",
    "\n",
    "# Inisialisasi kolom kategori\n",
    "df['Kategori_Efisiensi'] = \"\"\n",
    "\n",
    "# Kategorisasi menggunakan if-else\n",
    "for index, row in df.iterrows():\n",
    "    efisiensi = row['Biogas_Efficiency']\n",
    "    \n",
    "    if efisiensi > 70:\n",
    "        kategori = \"Sangat Efisien\"\n",
    "    elif efisiensi >= 60:\n",
    "        kategori = \"Efisien\"\n",
    "    else:\n",
    "        kategori = \"Kurang Efisien\"\n",
    "    \n",
    "    df.at[index, 'Kategori_Efisiensi'] = kategori\n",
    "\n",
    "# cetak hasil 5 baris pertama\n",
    "print(df[['Organic_Waste_kg', 'Biogas_Produced_L', 'Biogas_Efficiency', 'Kategori_Efisiensi']].head())\n"
   ]
  },
  {
   "cell_type": "markdown",
   "id": "80ca8078",
   "metadata": {},
   "source": [
    "### Query 2.4 : ✅ Menampilkan Ringkasan Statistik\n",
    "#### 🎯 Tujuan : Melakukan Analisis Data Eksplorasi (EDA) awal untuk:\n",
    "#### > Memahami distribusi data\n",
    "#### > Menemukan nilai ekstrim (outlier) atau kejanggalan\n",
    "#### > Mengetahui sebaran nilai: rata-rata, minimum, maksimum, kuartil, dan deviasi standar\n",
    "#### 💡 Fungsi Penting dari Query Ini:\n",
    "#### > Melihat apakah Recycle_Ratio > 1 → indikasi kesalahan pembagian\n",
    "#### > Apakah ada nilai negatif (misal Organic_Waste_kg < 0)\n",
    "#### > Seberapa stabil efisiensi biogas antar rumah tangga\n"
   ]
  },
  {
   "cell_type": "code",
   "execution_count": 12,
   "id": "af6d6767",
   "metadata": {},
   "outputs": [
    {
     "name": "stdout",
     "output_type": "stream",
     "text": [
      "=== Ringkasan Statistik ===\n",
      "       Organic_Waste_kg  Recyclable_Waste_kg  Biogas_Produced_L  \\\n",
      "count          50.00000            50.000000          50.000000   \n",
      "mean            5.49380             2.304800         351.854000   \n",
      "std             2.04156             1.075346         153.301889   \n",
      "min             1.89000             0.450000         113.400000   \n",
      "25%             3.78000             1.450000         226.800000   \n",
      "50%             5.50500             2.285000         330.300000   \n",
      "75%             7.20250             3.120000         504.175000   \n",
      "max             9.12000             4.230000         638.400000   \n",
      "\n",
      "       Energy_Credits  Total_Waste_kg  Recycle_Ratio  Biogas_Efficiency  \n",
      "count       50.000000       50.000000      50.000000          50.000000  \n",
      "mean       180.282000        7.798600       0.285812          62.699877  \n",
      "std         78.759459        3.102389       0.034048           4.652053  \n",
      "min         57.700000        2.340000       0.192308          55.000000  \n",
      "25%        116.400000        5.257500       0.278093          60.000000  \n",
      "50%        169.000000        7.790000       0.291687          60.000000  \n",
      "75%        258.462500       10.322500       0.304233          69.969623  \n",
      "max        327.700000       12.900000       0.353933          70.115340  \n",
      "\n",
      "=== Contoh Data ===\n",
      "   Organic_Waste_kg  Biogas_Produced_L  Biogas_Efficiency Kategori_Efisiensi\n",
      "0              4.56              273.6               60.0            Efisien\n",
      "1              7.89              552.3               70.0     Sangat Efisien\n",
      "2              2.34              128.7               55.0     Kurang Efisien\n",
      "3              6.12              367.2               60.0            Efisien\n",
      "4              3.78              226.8               60.0            Efisien\n"
     ]
    }
   ],
   "source": [
    "# impor pandas untuk mengelola data\n",
    "import pandas as pd\n",
    "# impor numpy untuk mengelola data\n",
    "import numpy as np\n",
    "\n",
    "# Membaca data CSV\n",
    "df = pd.read_csv(\"green_village_data.csv\")\n",
    "\n",
    "# Hitung efisiensi produksi biogas\n",
    "df['Biogas_Efficiency'] = df['Biogas_Produced_L'] / df['Organic_Waste_kg']\n",
    "\n",
    "# Tangani pembagian nol dan nilai tak terhingga\n",
    "df.replace([np.inf, -np.inf], np.nan, inplace=True)\n",
    "df['Biogas_Efficiency'] = df['Biogas_Efficiency'].fillna(0)\n",
    "\n",
    "# Inisialisasi kolom kategori\n",
    "df['Kategori_Efisiensi'] = \"\"\n",
    "\n",
    "# Gunakan iterrows dan if-else untuk klasifikasi efisiensi\n",
    "for index, row in df.iterrows():\n",
    "    efisiensi = row['Biogas_Efficiency']\n",
    "    \n",
    "    if efisiensi >= 70:\n",
    "        kategori = \"Sangat Efisien\"\n",
    "    elif efisiensi >= 60:\n",
    "        kategori = \"Efisien\"\n",
    "    else:\n",
    "        kategori = \"Kurang Efisien\"\n",
    "    \n",
    "    df.at[index, 'Kategori_Efisiensi'] = kategori\n",
    "\n",
    "# Menampilkan ringkasan statistik\n",
    "print(\"=== Ringkasan Statistik ===\")\n",
    "print(df.describe())\n",
    "\n",
    "# cetak 5 baris pertama untuk verifikasi\n",
    "print(\"\\n=== Contoh Data ===\")\n",
    "print(df[['Organic_Waste_kg', 'Biogas_Produced_L', 'Biogas_Efficiency', 'Kategori_Efisiensi']].head())\n"
   ]
  },
  {
   "cell_type": "markdown",
   "id": "2184f724",
   "metadata": {},
   "source": [
    "# QUERY 3 : ✨ Visualisasi Data\n",
    "### Query 3.1 : 📊 Visualisasi Tren Harian Sampah dan Biogas\n",
    "#### 🎯 Tujuan : Visualisasi Tren Harian\n",
    "#### 1. Melihat perkembangan sampah dan biogas setiap hari.\n",
    "#### → Apakah jumlahnya naik, turun, atau stabil?\n",
    "#### 2. Membandingkan jumlah sampah organik dengan produksi biogas.\n",
    "#### → Apakah makin banyak sampah, makin banyak biogas?\n",
    "#### 3. Menemukan hari-hari paling aktif.\n",
    "#### → Hari mana yang menghasilkan sampah atau biogas paling banyak?"
   ]
  },
  {
   "cell_type": "code",
   "execution_count": 13,
   "id": "5b6fe83b",
   "metadata": {},
   "outputs": [
    {
     "data": {
      "image/png": "[encoded data removed]",
      "text/plain": [
       "<Figure size 1200x600 with 1 Axes>"
      ]
     },
     "metadata": {},
     "output_type": "display_data"
    }
   ],
   "source": [
    "# Import pustaka (library) yang diperlukan\n",
    "import pandas as pd\n",
    "import matplotlib.pyplot as plt\n",
    "\n",
    "# Membaca data dari file CSV\n",
    "df = pd.read_csv(\"green_village_data.csv\")\n",
    "\n",
    "# Pastikan kolom 'Date' dalam format datetime\n",
    "df['Date'] = pd.to_datetime(df['Date'])\n",
    "\n",
    "# Menghitung ulang total sampah jika belum ada\n",
    "df['Total_Waste_kg'] = df['Organic_Waste_kg'] + df['Recyclable_Waste_kg']\n",
    "\n",
    "# Mengelompokkan data berdasarkan tanggal (agregasi total per hari)\n",
    "daily_summary = df.groupby('Date').sum(numeric_only=True)\n",
    "\n",
    "# Membuat grafik garis tren harian\n",
    "plt.figure(figsize=(12, 6))\n",
    "\n",
    "# Garis untuk jumlah sampah organik\n",
    "plt.plot(daily_summary.index,\n",
    "         daily_summary['Organic_Waste_kg'],\n",
    "         label='Sampah Organik (kg)',\n",
    "         color='green')\n",
    "\n",
    "# Garis untuk produksi biogas (dibagi 200 agar seimbang dengan skala sampah)\n",
    "plt.plot(daily_summary.index,\n",
    "         daily_summary['Biogas_Produced_L'] / 200,\n",
    "         label='Biogas (Liter ÷ 200)',\n",
    "         color='blue')\n",
    "\n",
    "# Menambahkan judul dan label\n",
    "plt.title('Tren Harian Sampah Organik & Produksi Biogas')\n",
    "plt.xlabel('Tanggal')\n",
    "plt.ylabel('Jumlah')\n",
    "plt.legend()\n",
    "plt.grid(True, linestyle='--', alpha=0.5)\n",
    "plt.xticks(rotation=45)\n",
    "plt.tight_layout()\n",
    "\n",
    "# Tampilkan grafik\n",
    "plt.show()\n"
   ]
  },
  {
   "cell_type": "markdown",
   "id": "d67a4463",
   "metadata": {},
   "source": [
    "### Query 3.2 : 🧠 Hubungan Sampah Organik dan Kredit Energi\n",
    "#### 🎯 Tujuan : \n",
    "#### 1. apakah makin banyak sampah organik = makin besar kredit\n",
    "#### 2. Memahami apakah program insentif efektif mendorong penyetoran sampah.\n",
    "#### 3. Mendeteksi pola korelasi, apakah titik-titik membentuk garis naik"
   ]
  },
  {
   "cell_type": "code",
   "execution_count": 14,
   "id": "de87a09a",
   "metadata": {},
   "outputs": [
    {
     "data": {
      "image/png": "[encoded data removed]",
      "text/plain": [
       "<Figure size 800x500 with 1 Axes>"
      ]
     },
     "metadata": {},
     "output_type": "display_data"
    }
   ],
   "source": [
    "# Import library yang di perlukan\n",
    "import pandas as pd\n",
    "import matplotlib.pyplot as plt\n",
    "\n",
    "# Membaca data dari file CSV\n",
    "df = pd.read_csv(\"green_village_data.csv\")\n",
    "\n",
    "# Membuat grafik sebar (scatter plot)\n",
    "plt.figure(figsize=(8, 5))\n",
    "\n",
    "# Titik-titik hubungan antara sampah organik dan kredit energi\n",
    "plt.scatter(\n",
    "    x=df['Organic_Waste_kg'],\n",
    "    y=df['Energy_Credits'],\n",
    "    color='red',\n",
    "    alpha=0.5,      # Transparansi untuk melihat tumpukan data\n",
    "    edgecolors='w'\n",
    ")\n",
    "\n",
    "# Tambahkan judul dan label sumbu\n",
    "plt.title('Hubungan Antara Sampah Organik dan Kredit Energi')\n",
    "plt.xlabel('Sampah Organik (kg)')\n",
    "plt.ylabel('Kredit Energi (point)')\n",
    "plt.grid(True)\n",
    "plt.tight_layout()\n",
    "\n",
    "# Tampilkan grafik\n",
    "plt.show()\n"
   ]
  },
  {
   "cell_type": "markdown",
   "id": "1831709e",
   "metadata": {},
   "source": [
    "# QUERY 4 : 📦 Menyimpan Hasil\n",
    "### Query 4.1 : 🧼 Menyimpan Hasil untuk Dampak Jangka Panjang\n",
    "### 🎯 Tujuan :\n",
    "#### 1. Menyimpan hasil kerja keras analisis ke file baru agar tidak hilang atau diulang dari awal.\n",
    "#### 2. Menjaga data bersih dan siap digunakan lagi (untuk visualisasi, laporan, machine learning, atau dashboard).\n",
    "#### 3. Menghindari menimpa data mentah dengan cara membuat file baru bernama green_village_analyzed.csv.\n",
    "#### 4. Menyiapkan data agar bisa dibagikan ke tim lain atau digunakan dalam software lain (seperti Excel, Tableau, Power BI)."
   ]
  },
  {
   "cell_type": "code",
   "execution_count": null,
   "id": "144f01b9",
   "metadata": {},
   "outputs": [
    {
     "name": "stdout",
     "output_type": "stream",
     "text": [
      "DataFrame yang telah dianalisis berhasil disimpan sebagai green_village_analyzed.csv\n"
     ]
    }
   ],
   "source": [
    "import pandas as pd\n",
    "\n",
    "# Menyimpan DataFrame yang telah diolah ke file CSV baru\n",
    "df.to_csv('green_village_analyzed.csv', index=False)\n",
    "\n",
    "# \n",
    "# Memberi konfirmasi bahwa file berhasil disimpan\n",
    "print(\"DataFrame yang telah dianalisis berhasil disimpan sebagai green_village_analyzed.csv\")\n"
   ]
  }
 ],
 "metadata": {
  "kernelspec": {
   "display_name": "greenvillage_env",
   "language": "python",
   "name": "python3"
  },
  "language_info": {
   "codemirror_mode": {
    "name": "ipython",
    "version": 3
   },
   "file_extension": ".py",
   "mimetype": "text/x-python",
   "name": "python",
   "nbconvert_exporter": "python",
   "pygments_lexer": "ipython3",
   "version": "3.12.11"
  }
 },
 "nbformat": 4,
 "nbformat_minor": 5
}
